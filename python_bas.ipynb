{
 "metadata": {
  "language_info": {
   "codemirror_mode": {
    "name": "ipython",
    "version": 3
   },
   "file_extension": ".py",
   "mimetype": "text/x-python",
   "name": "python",
   "nbconvert_exporter": "python",
   "pygments_lexer": "ipython3",
   "version": "3.8.5"
  },
  "orig_nbformat": 2,
  "kernelspec": {
   "name": "python385jvsc74a57bd016e3f6170213bc8b93f4af10cda404198c09c84502cee13f546aa00fc3fa8f5f",
   "display_name": "Python 3.8.5 64-bit"
  }
 },
 "nbformat": 4,
 "nbformat_minor": 2,
 "cells": [
  {
   "cell_type": "code",
   "execution_count": 1,
   "metadata": {},
   "outputs": [],
   "source": [
    "## Unidade 2"
   ]
  },
  {
   "source": [
    "### Exercício 8: Rede Social 👑\n",
    "Você irá fazer uma rede social por meio de um vetor de pessoas *pessoas* e matriz *amizades*, similar ao apresentado abaixo:\n",
    "![Screenshot%20from%202021-03-10%2011-52-08.png](attachment:Screenshot%20from%202021-03-10%2011-52-08.png)\n",
    "\n",
    "em que, na matriz *amizades*, cada linha e coluna correspondem a pessoas que podem manter uma relação de amizade entre si. Além disso, a pessoas da i-ésima linha (e coluna!) corresponde a mesma pessoa na posição i no vetor *pessoas*. Exemplo, a pessoa na linha 0 (e coluna 0) é *Alice*, da mesma forma, a pessoa na linha e coluna 2 é a *Carol*.\n",
    "\n",
    "Nesta matriz o valor é 1 caso uma pessoa, representada na linha, e amiga da pessoa representada pela coluna. Por exemplo, *Alice* é amiga apenas de *Danielle* (veja a linha 0). Nesta rede social (assim como na vida 💁) pode ocorrer falta de reciprocidade entre as amizades, por exemplo: *Bob* é amigo de *Alice* mas *Alice* não é amiga de *Bob*.\n",
    "\n",
    "Aqui vai duas funções que você deverá fazer e testá-las por meio da matriz e vetor:\n",
    "\n",
    "- `exibe_amigos`: por meio do vetor *pessoas*, matriz *amizades* e o nome de uma pessoa, exibe o amigos desta pessoa. Você deverá armazenar esta lista de amigos em um vetor e retorná-lo.\n",
    "\n",
    "- `exibe_amigos_em_comum`: por meio do vetor *pessoas*, da matriz *amizades* e do nome de uma pessoa X e uma pessoa Y, exibe os amigos em comum entre essas duas pessoas. Você deverá armazenar essa lista de amigos em comum em um vetor e retorná-lo.\n",
    "\n",
    "Lembre-se de imprimir todas as saídas de forma que fique claro de qual entrada ela representa. A função *obtem_posicao_elemento* (exercício 3) poderá ajudar, porém *CHAME-A* e *não implemente novamente*.\n"
   ],
   "cell_type": "markdown",
   "metadata": {}
  },
  {
   "source": [
    "#implemente sua função aqui!\n",
    "\n",
    "def exibe_amigos(pessoas, amizades, nome_pessoa):\n",
    "    indice = pessoas.index(nome_pessoa)\n",
    "    amigos = []\n",
    "\n",
    "    for ind, number in enumerate(amizades[indice]):\n",
    "        if number == 1:\n",
    "            amigos.append(pessoas[ind])\n",
    "\n",
    "    return amigos\n",
    "\n",
    "def exibe_amigos_em_comum(pessoas, amizades, nome_pessoa_1, nome_pessoa_2):\n",
    "    indice_1 = pessoas.index(nome_pessoa_1)\n",
    "    indice_2 = pessoas.index(nome_pessoa_2)\n",
    "\n",
    "    amigos = []\n",
    "\n",
    "    for column in range(len(amizades)):\n",
    "        if amizades[indice_1][column] == 1 and amizades[indice_2][column] == 1:\n",
    "            amigos.append(pessoas[column])\n",
    "\n",
    "    return amigos\n"
   ],
   "cell_type": "markdown",
   "metadata": {}
  },
  {
   "cell_type": "code",
   "execution_count": 2,
   "metadata": {},
   "outputs": [
    {
     "output_type": "stream",
     "name": "stdout",
     "text": [
      "Amigos de Bob: ['Alice', 'Bob']\nAmigos de Carol: ['Alice', 'Bob']\nAmigos de Alice: ['Bob']\nAmigos de Alice e Carol: ['Bob']\n"
     ]
    }
   ],
   "source": [
    "#crie os testes aqui!\n",
    "\n",
    "pessoas = [\"Alice\",\"Bob\",\"Carol\"]\n",
    "amizades = [[0,1,0],\n",
    "           [1,1,0],\n",
    "            [1,1,0]]\n",
    "\n",
    "amigos = exibe_amigos(pessoas, amizades,\"Bob\")\n",
    "print(f\"Amigos de Bob: {amigos}\")\n",
    "\n",
    "#Faça mais testes paara exibe_amigos e para exibe_amigos_em_comum\n",
    "\n",
    "amigos = exibe_amigos(pessoas, amizades,\"Carol\")\n",
    "print(f\"Amigos de Carol: {amigos}\")\n",
    "\n",
    "amigos = exibe_amigos(pessoas, amizades,\"Alice\")\n",
    "print(f\"Amigos de Alice: {amigos}\")\n",
    "\n",
    "print(f\"Amigos de Alice e Carol: {exibe_amigos_em_comum(pessoas, amizades, 'Alice', 'Carol')}\")"
   ]
  },
  {
   "source": [
    "## Unidade 3"
   ],
   "cell_type": "markdown",
   "metadata": {}
  },
  {
   "source": [
    "### Exercício 2: Operações em string\n",
    "Nesse exercício você irá implementar duas funções que auxiliarão nos exercícios posteriores:\n",
    "\n",
    "\n",
    "- **elimina_caracteres** (2 parâmetros) Elimina todas as ocorrências dos caracteres especificados de um texto. Tanto o texto quanto os caracteres a serem removidos são passados como parâmetros. Exemplo: `elimina_caracteres('correndo contra o tempo', 'coe')` devem resultar na string `rrnd cntra tmp`. Não altere o *for* já criado! O método *.replace* pode te ajudar! consulte [documentação](https://docs.python.org/3.5/library/stdtypes.html#string-methods) ou os [slides](https://daniel-hasan.github.io/cefet-web-grad/classes/python2/#5).\n",
    "    \n",
    "DICA: Será necessario usar o *.replace* uma vez para cada caractere especificado (ou seja, dentro de um laço)."
   ],
   "cell_type": "markdown",
   "metadata": {}
  },
  {
   "cell_type": "code",
   "execution_count": 3,
   "metadata": {},
   "outputs": [],
   "source": [
    "def elimina_caracteres(texto, caracteres_para_eliminar):\n",
    "    text = texto\n",
    "    for caracter_eliminar in caracteres_para_eliminar:\n",
    "        text = text.replace(caracter_eliminar, \"\")\n",
    "    return text"
   ]
  },
  {
   "cell_type": "code",
   "execution_count": 4,
   "metadata": {},
   "outputs": [
    {
     "output_type": "stream",
     "name": "stdout",
     "text": [
      "rrnd ntra  tmp\ntrg para tgrs trsts\n"
     ]
    }
   ],
   "source": [
    "# Faça os testes \n",
    "resultado_1 = elimina_caracteres('correndo contra o tempo', 'coe')\n",
    "resultado_2 = elimina_caracteres('trigo para tigres tristes', 'ieo') #saída: trg para tgrs trsts\n",
    "\n",
    "#lembre-se de imprimir os resultados\n",
    "print(resultado_1)\n",
    "print(resultado_2)"
   ]
  },
  {
   "source": [
    "- **substitua_caracteres**: (3 parâmetros) Dado um texto, uma string de procura e uma string de reposição, sendo que a string de procura e reposição são de mesmo tamanho. Substitua no texto o caractere na posição i da string de procura pelo caractere na mesma posição i na string de reposição. O texto, os caracteres a serem procurados no texto e os caracteres a serem colocados no lugar serão passados como parâmetro.\n",
    "    \n",
    "Exemplo:  `substitua_caracteres('o sapo nao lava o pe', 'aoe', 'iiu')` devem resultar na string `'i sipi nii livi i pu'`.\n",
    "    \n",
    "DICA: Será necessario usar o *.replace* uma vez para cada caractere especificado (ou seja, dentro de um laço)."
   ],
   "cell_type": "markdown",
   "metadata": {}
  },
  {
   "cell_type": "code",
   "execution_count": 5,
   "metadata": {},
   "outputs": [],
   "source": [
    "def substitua_caracteres(texto, caracteres_procura, caracteres_substituir_por):\n",
    "    text = texto\n",
    "\n",
    "    for i in range(len(caracteres_procura)):\n",
    "        caractere_procura = caracteres_procura[i]\n",
    "        caractere_substituir_por = caracteres_substituir_por[i]\n",
    "        text = text.replace(caractere_procura, caractere_substituir_por)\n",
    "        \n",
    "    return text"
   ]
  },
  {
   "cell_type": "code",
   "execution_count": 6,
   "metadata": {},
   "outputs": [
    {
     "output_type": "stream",
     "name": "stdout",
     "text": [
      "i sipi nii livi i pu\nunu cempreu umu urerunhu\n"
     ]
    }
   ],
   "source": [
    "#testes! Faça mais para verificar todos os casos.\n",
    "# Lembre-se de imprimir o resultado.\n",
    "\n",
    "resultado_1 = substitua_caracteres('o sapo nao lava o pe', 'aoe', 'iiu')\n",
    "resultado_2 = substitua_caracteres('ana comprou uma ariranha', 'aoi', 'uee') #saida: unu cempreu umu urerunhu\n",
    "\n",
    "print(resultado_1)\n",
    "print(resultado_2)"
   ]
  },
  {
   "source": [
    "### Exercício 3: Palíndromos 👑\n",
    "Segundo a [Oxford Languages](https://languages.oup.com/google-dictionary-pt/), *palíndromos* são textos que se pode ler, indiferentemente, da esquerda para a direita ou vice-versa. Por exemplo: \"arara\", \"asa\", \"mirim\"... E também as frases: \"A cara rajada da jararaca\", \"Socorram-me, subi no ônibus em Marrocos\"...Perceba que, em frases, deve-se ignorar a pontuação, acentuação, espaços e maiúsculas/minúsculas.\n",
    "\n",
    "Implemente a função *verifica_palindromo* que recebe como parâmetro uma string (texto ou única palavra) e retorna *true* caso o parâmetro seja um palíndromo ou *false*, caso contrário. \n",
    "\n",
    "As funções do exercício anterior podem lhe ajudar para processamento de string, para isso *chame-as* e *não implemente-as*. Ignore as seguintes pontuações: `, - ! ?` e o espaço em branco. Além disso, acentos agudos, til e circunflexo em vogais devem ser ignorados.\n"
   ],
   "cell_type": "markdown",
   "metadata": {}
  },
  {
   "cell_type": "code",
   "execution_count": 7,
   "metadata": {},
   "outputs": [],
   "source": [
    "#implemete sua função aqui!\n",
    "def verifica_palindromo(texto:str)->bool:\n",
    "    text = texto.lower()\n",
    "\n",
    "    text = elimina_caracteres(text, \" ,-!?\")\n",
    "\n",
    "    text = substitua_caracteres(text, \"óõô\", \"ooo\")\n",
    "    text = substitua_caracteres(text, \"áãâ\", \"aaa\")\n",
    "    text = substitua_caracteres(text, \"éê\", \"ee\")\n",
    "    text = substitua_caracteres(text, \"íî\", \"ii\")\n",
    "    text = substitua_caracteres(text, \"úû\", \"uu\")\n",
    "\n",
    "    for index in range(len(text)):\n",
    "        inverse_index = len(text) - index - 1\n",
    "\n",
    "        if(text[index] != text[inverse_index]):\n",
    "            return False\n",
    "\n",
    "    return True"
   ]
  },
  {
   "cell_type": "code",
   "execution_count": 8,
   "metadata": {},
   "outputs": [
    {
     "output_type": "stream",
     "name": "stdout",
     "text": [
      "True\nFalse\nTrue\n"
     ]
    }
   ],
   "source": [
    "#testes\n",
    "print(verifica_palindromo(\"após a sopa\"))\n",
    "print(verifica_palindromo(\"azul\"))\n",
    "print(verifica_palindromo(\"arara\"))"
   ]
  },
  {
   "source": [
    "### Exercício 5: Funções como parâmetro 2\n",
    "Você irá implementar a função *executa_operacao_vetor* que recebe como parâmetro uma operação (função) e dois vetores, *vetor1* e *vetor2*, de mesmo tamanho, e executa uma operação entre os elementos da mesma posição deste vetor. \n",
    "Esta operação é uma função que será chamada para cada posição deste vetor (ex: *operacao(vetor1[i], vetor2[i])*) e retornará o resultado desta operação. Caso os dois vetores sejam de tamanho diferentes, deve-se exibir uma *mensagem de erro* e não realizar a operação.\n",
    "\n",
    "Veja o exemplo abaixo, considerando a operação soma (implementada no exercício 0.2).\n",
    "\n",
    "![Screenshot%20from%202021-03-10%2015-05-05.png](attachment:Screenshot%20from%202021-03-10%2015-05-05.png)\n",
    "\n",
    "Você deverá implementar a função *executa_operacao_vetor* e três operações distintas (por exemplo, *soma(a, b)*, *multiplica(a, b)* e *subtrai(a, b)*), cada uma, criando uma função de forma uma diferente, siga o tutorial e o exercício anterior.\n",
    "\n",
    "PS: Lembre-se de sempre rodar a função antes e trocar os null"
   ],
   "cell_type": "markdown",
   "metadata": {}
  },
  {
   "cell_type": "code",
   "execution_count": 9,
   "metadata": {},
   "outputs": [],
   "source": [
    "#implemente sua função aqui!\n",
    "def soma(a, b):\n",
    "    return a+b\n",
    "\n",
    "def multiplica(a, b):\n",
    "    return a*b\n",
    "\n",
    "def subtrai(a, b):\n",
    "    return a-b\n",
    "\n",
    "def executa_operacao_vetor(operacao, vetor_1, vetor_2):\n",
    "    if len(vetor_1) != len(vetor_2):\n",
    "        raise Exception(\"Os vetores passados são de tamanho diferentes\")\n",
    "\n",
    "    vetor = []\n",
    "\n",
    "    for index in range(len(vetor_1)):\n",
    "        vetor.append(operacao(vetor_1[index],vetor_2[index]))\n",
    "\n",
    "    return vetor"
   ]
  },
  {
   "cell_type": "code",
   "execution_count": 10,
   "metadata": {},
   "outputs": [
    {
     "output_type": "stream",
     "name": "stdout",
     "text": [
      "[14, 4, 2, 15]\n[-6, 0, -4, 5]\n[40, 4, -3, 50]\n"
     ]
    }
   ],
   "source": [
    "#testes! Lembre-se de testar todas as funções e imprimir o resultado\n",
    "\n",
    "vetor_1 = [4,2,-1,10]\n",
    "vetor_2 = [10,2,3,5]\n",
    "\n",
    "print(executa_operacao_vetor(soma, vetor_1, vetor_2))\n",
    "print(executa_operacao_vetor(subtrai, vetor_1, vetor_2))\n",
    "print(executa_operacao_vetor(multiplica, vetor_1, vetor_2))"
   ]
  },
  {
   "source": [
    "#Lançamento de exceção\n",
    "\n",
    "print(executa_operacao_vetor(soma, [1,2], []))"
   ],
   "cell_type": "code",
   "metadata": {},
   "execution_count": 11,
   "outputs": [
    {
     "output_type": "error",
     "ename": "Exception",
     "evalue": "Os vetores passados são de tamanho diferentes",
     "traceback": [
      "\u001b[1;31m---------------------------------------------------------------------------\u001b[0m",
      "\u001b[1;31mException\u001b[0m                                 Traceback (most recent call last)",
      "\u001b[1;32m<ipython-input-11-300576820499>\u001b[0m in \u001b[0;36m<module>\u001b[1;34m\u001b[0m\n\u001b[0;32m      1\u001b[0m \u001b[1;31m#Lançamento de exceção\u001b[0m\u001b[1;33m\u001b[0m\u001b[1;33m\u001b[0m\u001b[1;33m\u001b[0m\u001b[0m\n\u001b[0;32m      2\u001b[0m \u001b[1;33m\u001b[0m\u001b[0m\n\u001b[1;32m----> 3\u001b[1;33m \u001b[0mprint\u001b[0m\u001b[1;33m(\u001b[0m\u001b[0mexecuta_operacao_vetor\u001b[0m\u001b[1;33m(\u001b[0m\u001b[0msoma\u001b[0m\u001b[1;33m,\u001b[0m \u001b[1;33m[\u001b[0m\u001b[1;36m1\u001b[0m\u001b[1;33m,\u001b[0m\u001b[1;36m2\u001b[0m\u001b[1;33m]\u001b[0m\u001b[1;33m,\u001b[0m \u001b[1;33m[\u001b[0m\u001b[1;33m]\u001b[0m\u001b[1;33m)\u001b[0m\u001b[1;33m)\u001b[0m\u001b[1;33m\u001b[0m\u001b[1;33m\u001b[0m\u001b[0m\n\u001b[0m",
      "\u001b[1;32m<ipython-input-9-90adce7920c9>\u001b[0m in \u001b[0;36mexecuta_operacao_vetor\u001b[1;34m(operacao, vetor_1, vetor_2)\u001b[0m\n\u001b[0;32m     11\u001b[0m \u001b[1;32mdef\u001b[0m \u001b[0mexecuta_operacao_vetor\u001b[0m\u001b[1;33m(\u001b[0m\u001b[0moperacao\u001b[0m\u001b[1;33m,\u001b[0m \u001b[0mvetor_1\u001b[0m\u001b[1;33m,\u001b[0m \u001b[0mvetor_2\u001b[0m\u001b[1;33m)\u001b[0m\u001b[1;33m:\u001b[0m\u001b[1;33m\u001b[0m\u001b[1;33m\u001b[0m\u001b[0m\n\u001b[0;32m     12\u001b[0m     \u001b[1;32mif\u001b[0m \u001b[0mlen\u001b[0m\u001b[1;33m(\u001b[0m\u001b[0mvetor_1\u001b[0m\u001b[1;33m)\u001b[0m \u001b[1;33m!=\u001b[0m \u001b[0mlen\u001b[0m\u001b[1;33m(\u001b[0m\u001b[0mvetor_2\u001b[0m\u001b[1;33m)\u001b[0m\u001b[1;33m:\u001b[0m\u001b[1;33m\u001b[0m\u001b[1;33m\u001b[0m\u001b[0m\n\u001b[1;32m---> 13\u001b[1;33m         \u001b[1;32mraise\u001b[0m \u001b[0mException\u001b[0m\u001b[1;33m(\u001b[0m\u001b[1;34m\"Os vetores passados são de tamanho diferentes\"\u001b[0m\u001b[1;33m)\u001b[0m\u001b[1;33m\u001b[0m\u001b[1;33m\u001b[0m\u001b[0m\n\u001b[0m\u001b[0;32m     14\u001b[0m \u001b[1;33m\u001b[0m\u001b[0m\n\u001b[0;32m     15\u001b[0m     \u001b[0mvetor\u001b[0m \u001b[1;33m=\u001b[0m \u001b[1;33m[\u001b[0m\u001b[1;33m]\u001b[0m\u001b[1;33m\u001b[0m\u001b[1;33m\u001b[0m\u001b[0m\n",
      "\u001b[1;31mException\u001b[0m: Os vetores passados são de tamanho diferentes"
     ]
    }
   ]
  },
  {
   "cell_type": "code",
   "execution_count": null,
   "metadata": {},
   "outputs": [],
   "source": []
  }
 ]
}